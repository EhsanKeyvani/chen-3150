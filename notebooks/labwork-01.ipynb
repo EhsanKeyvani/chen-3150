{
 "cells": [
  {
   "cell_type": "markdown",
   "metadata": {},
   "source": [
    "ChEn-3150: Unit Operations Laboratory Fall 2020 UMass Lowell; Profs. Keyvani and de Almeida **24May20**\n",
    "\n",
    "# Laboratory Work 01: Rotameter Calibration (08Sep20)\n",
    "$\n",
    "  \\newcommand{\\Amtrx}{\\boldsymbol{\\mathsf{A}}}\n",
    "  \\newcommand{\\Bmtrx}{\\boldsymbol{\\mathsf{B}}}\n",
    "  \\newcommand{\\Cmtrx}{\\boldsymbol{\\mathsf{C}}}\n",
    "  \\newcommand{\\Mmtrx}{\\boldsymbol{\\mathsf{M}}}\n",
    "  \\newcommand{\\Imtrx}{\\boldsymbol{\\mathsf{I}}}\n",
    "  \\newcommand{\\Pmtrx}{\\boldsymbol{\\mathsf{P}}}\n",
    "  \\newcommand{\\Qmtrx}{\\boldsymbol{\\mathsf{Q}}}\n",
    "  \\newcommand{\\Lmtrx}{\\boldsymbol{\\mathsf{L}}}\n",
    "  \\newcommand{\\Umtrx}{\\boldsymbol{\\mathsf{U}}}\n",
    "  \\newcommand{\\xvec}{\\boldsymbol{\\mathsf{x}}}\n",
    "  \\newcommand{\\yvec}{\\boldsymbol{\\mathsf{y}}}\n",
    "  \\newcommand{\\zvec}{\\boldsymbol{\\mathsf{z}}}\n",
    "  \\newcommand{\\avec}{\\boldsymbol{\\mathsf{a}}}\n",
    "  \\newcommand{\\bvec}{\\boldsymbol{\\mathsf{b}}}\n",
    "  \\newcommand{\\cvec}{\\boldsymbol{\\mathsf{c}}}\n",
    "  \\newcommand{\\rvec}{\\boldsymbol{\\mathsf{r}}}\n",
    "  \\newcommand{\\norm}[1]{\\bigl\\lVert{#1}\\bigr\\rVert}\n",
    "  \\DeclareMathOperator{\\rank}{rank}\n",
    "  \\DeclareMathOperator{\\abs}{abs}\n",
    "$"
   ]
  },
  {
   "cell_type": "markdown",
   "metadata": {},
   "source": [
    "### Name: `your name`"
   ]
  },
  {
   "cell_type": "markdown",
   "metadata": {},
   "source": [
    "### <span style=\"color:red\">Guidance:</span>\n",
    " +  <span style=\"color:red\"> \n",
    "    guidance.\n",
    "    </span>\n",
    " +  <span style=\"color:red\">\n",
    "    guidance.\n",
    "    </span>\n",
    " +  <span style=\"color:red\">\n",
    "    guidance.\n",
    "    </span>"
   ]
  },
  {
   "cell_type": "markdown",
   "metadata": {},
   "source": [
    "---\n",
    "### Table of Contents<a id=\"toc\"></a>\n",
    "* [1. Introduction](#a1) \n" ,
    " - [Physical Objective](#a11)\n",
    "| [Digital Objective](#a12) \n" ,
    " - [Background](#a13) \n",
    " - [Theory](#a14)"
   ]
  },
  {
   "cell_type": "markdown",
   "metadata": {},
   "source": [
    "* [2. Apparatus & Procedure](#a2) \n",
    " - [Physical Standard Operation Procedure (P-SOP)](#a21) \n",
    "| [Physical Process Flow Diagram (P-PFD)](#a22) \n",
    " - [Digital Standard Operation Procedure (D-SOP)](#a23) \n",
    "| [Digital Process Flow Diagram (D-PFD)](#a24)"
   ]
  },
  {
   "cell_type": "markdown",
   "metadata": {},
   "source": [
    "* [3. Experimental Design](#a3) \n",
    " - [Parameters & Variables](#a31) \n",
    " - [Ranges & Limits](#a32) \n",
    " - [Measurement Devices & Error](#a33)"
   ]
  },
  {
   "cell_type": "markdown",
   "metadata": {},
   "source": [
    "* [4. Data Collection](#a4) \n",
    " - [Safety Check-in](#a41) \n",
    "   - [P-Raw Data Tables (Physical)](#a42) \n",
    "| [P-Calculated Data Tables](#a43) \n",
    "   - [D-Raw Data Tables (Digital)](#a44) \n",
    "| [D-Calculated Data Tables](#a45)"
   ]
  },
  {
   "cell_type": "markdown",
   "metadata": {},
   "source": [
    "* [5. Data Analysis & Observations](#a5) \n",
    " - [P-Observations](#a51) \n",
    "| [D-Observation](#a52) \n",
    " - [Primary Analysis](#a53) \n",
    "| [Secondary Analysis](#54) \n",
    " - [Initial Conclusions](#a55) \n",
    "| [Initial Recommendations](#a56)"
     ]
  },
  {
   "cell_type": "markdown",
   "metadata": {},
   "source": [
    "* [6. Data Analysis](#a6) \n",
    " - [Primary Analysis](#a61) \n",
    " - [Secondary Analysis](#a61) \n",
    "* [7. Observations](#a7) \n",
    " - [Physical](#a71) \n",
    " - [Digital](#a71) \n",
    "* [8. Further Comments](#a8) \n",
    " - [Initial Conclusions](#a81) \n",
    " - [Initial Recommendations](#a81) \n",
    "* [9. Lockout/Tagout Procedure](#a9) \n",
    " - [Safety Checkout](#a91) \n",
    " - [Approvals](#a91) "
   ]
  },
  {
   "cell_type": "markdown",
   "metadata": {},
   "source": [
    "* [10. Observations](#a7) \n",
    " - [Physical](#a71) \n",
    " - [Digital](#a71) \n",
    "* [11. Further Comments](#a8) \n",
    " - [Initial Conclusions](#a81) \n",
    " - [Initial Recommendations](#a81) \n",
    "* [12. Lockout/Tagout Procedure](#a9) \n",
    " - [Safety Checkout](#a91) \n",
    " - [Approvals](#a91) \n",
    "---"
   ]
  },
  {
   "cell_type": "markdown",
   "metadata": {},
   "source": [
    "##  [<span style=\"color:blue\">1. Objective</span>](#toc)<a id=\"a1\"></a>"
   ]
  },
  {
   "cell_type": "markdown",
   "metadata": {},
   "source": [
    "[<span style=\"color:blue\">1.1)</span>](#toc)\n",
    "<span style=\"color:blue\">\n",
    "This sub-item.\n",
    "</span><a id=\"a11\"></a>"
   ]
  },
  {
   "cell_type": "markdown",
   "metadata": {},
   "source": [
    "## [<span style=\"color:blue\">2. Introduction</span>](#toc)<a id=\"a2\"></a>"
   ]
  },
  {
   "cell_type": "markdown",
   "metadata": {},
   "source": [
    "[<span style=\"color:blue\">2.1)</span>](#toc)\n",
    "<span style=\"color:blue\">\n",
    "Background.\n",
    "</span><a id=\"a21\"></a>"
   ]
  },
  {
   "cell_type": "markdown",
   "metadata": {},
   "source": [
    "[<span style=\"color:blue\">2.2)</span>](#toc)\n",
    "<span style=\"color:blue\">\n",
    "Theory.\n",
    "</span><a id=\"a22\"></a>"
   ]
  },
  {
   "cell_type": "markdown",
   "metadata": {},
   "source": [
    "## [<span style=\"color:blue\">3. Apparatus & Procedure</span>](#toc)<a id=\"a3\"></a>"
   ]
  },
  {
   "cell_type": "markdown",
   "metadata": {},
   "source": [
    "[<span style=\"color:blue\">3.1)</span>](#toc)\n",
    "<span style=\"color:blue\">\n",
    "Physical Standard Operation Procedure (P-SOP).\n",
    "</span><a id=\"a31\"></a>"
   ]
  },
  {
   "cell_type": "markdown",
   "metadata": {},
   "source": [
    "|   |\n",
    "|:---|\n",
    "|<img  width=\"300\" src=\"https://raw.githubusercontent.com/dpploy/chen-3150/master/notebooks/images/rotatmeter-schematics.jpg\" title=\"Rotameter Apparatus\"> |"
   ]
  },
  {
   "cell_type": "markdown",
   "metadata": {},
   "source": [
    "[<span style=\"color:blue\">3.2)</span>](#toc)\n",
    "<span style=\"color:blue\">\n",
    "Physical Process Flow Diagram (P-PFD).\n",
    "</span><a id=\"a32\"></a>"
   ]
  },
  {
   "cell_type": "markdown",
   "metadata": {},
   "source": [
    "[<span style=\"color:blue\">3.3)</span>](#toc)\n",
    "<span style=\"color:blue\">\n",
    "Digital Standard Operation Procedure (D-SOP).\n",
    "</span><a id=\"a33\"></a>"
   ]
  },
  {
   "cell_type": "markdown",
   "metadata": {},
   "source": [
    "[<span style=\"color:blue\">3.4)</span>](#toc)\n",
    "<span style=\"color:blue\">\n",
    "Digital Process Flow Diagram (D-PFD).\n",
    "</span><a id=\"a34\"></a>"
   ]
  },
  {
   "cell_type": "markdown",
   "metadata": {},
   "source": [
    "[<span style=\"color:blue\">2.1)</span>](#toc)\n",
    "<span style=\"color:blue\">\n",
    "Physical apparatus.\n",
    "</span><a id=\"a21\"></a>"
   ]
  },
  {
   "cell_type": "code",
   "execution_count": null,
   "metadata": {},
   "outputs": [],
   "source": [
    "from chen_3150 import rotameter_apparatus as rotapp\n",
    "\n",
    "rotapp.help\n",
    "roapp.status"
   ]
  },
  {
   "cell_type": "markdown",
   "metadata": {},
   "source": [
    "[<span style=\"color:blue\">2.2)</span>](#toc)\n",
    "<span style=\"color:blue\">\n",
    "Digital Standard Operation Procedure (D-SOP)\n",
    "</span><a id=\"a22\"></a>"
   ]
  },
  {
   "cell_type": "markdown",
   "metadata": {},
   "source": [
    "<span style=\"color:blue\">Start R4</span>"
   ]
  },
  {
   "cell_type": "code",
   "execution_count": null,
   "metadata": {},
   "outputs": [],
   "source": [
    "rotapp.open_g3\n",
    "rotapp.open_b8\n",
    "rotapp.open_b7\n",
    "rotapp.open_g2\n",
    "rotapp.open_g1"
   ]
  },
  {
   "cell_type": "markdown",
   "metadata": {},
   "source": [
    "## [<span style=\"color:blue\">3. Data Collection</span>](#toc)<a id=\"a3\"></a>"
   ]
  },
  {
   "cell_type": "markdown",
   "metadata": {},
   "source": [
    "[<span style=\"color:blue\">3.1)</span>](#toc)\n",
    "<span style=\"color:blue\">\n",
    "This sub-item.\n",
    "</span><a id=\"a31\"></a>"
   ]
  },
  {
   "cell_type": "code",
   "execution_count": null,
   "metadata": {},
   "outputs": [],
   "source": [
    "rotapp.open_g1\n",
    "rotapp.open_g3"
   ]
  },
  {
   "cell_type": "markdown",
   "metadata": {},
   "source": [
    "## [<span style=\"color:blue\">4. Raw Data</span>](#toc)<a id=\"a4\"></a>"
   ]
  },
  {
   "cell_type": "markdown",
   "metadata": {},
   "source": [
    "[<span style=\"color:blue\">4.1)</span>](#toc)\n",
    "<span style=\"color:blue\">\n",
    "This sub-item.\n",
    "</span><a id=\"a41\"></a>"
   ]
  },
  {
   "cell_type": "code",
   "execution_count": null,
   "metadata": {},
   "outputs": [],
   "source": []
  }
 ],
 "metadata": {
  "kernelspec": {
   "display_name": "Python 3",
   "language": "python",
   "name": "python3"
  },
  "language_info": {
   "codemirror_mode": {
    "name": "ipython",
    "version": 3
   },
   "file_extension": ".py",
   "mimetype": "text/x-python",
   "name": "python",
   "nbconvert_exporter": "python",
   "pygments_lexer": "ipython3",
   "version": "3.7.1"
  },
  "latex_envs": {
   "LaTeX_envs_menu_present": true,
   "autoclose": false,
   "autocomplete": true,
   "bibliofile": "biblio.bib",
   "cite_by": "apalike",
   "current_citInitial": 1,
   "eqLabelWithNumbers": true,
   "eqNumInitial": 1,
   "hotkeys": {
    "equation": "Ctrl-E",
    "itemize": "Ctrl-I"
   },
   "labels_anchors": false,
   "latex_user_defs": false,
   "report_style_numbering": false,
   "user_envs_cfg": false
  }
 },
 "nbformat": 4,
 "nbformat_minor": 2
}
