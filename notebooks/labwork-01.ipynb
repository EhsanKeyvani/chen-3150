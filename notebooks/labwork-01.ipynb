{
 "cells": [
  {
   "cell_type": "markdown",
   "metadata": {},
   "source": [
    "ChEn-3150: Unit Operations Laboratory Fall 2020 UMass Lowell; Profs. Keyvani and de Almeida **24May20**\n",
    "\n",
    "# Laboratory Work 01: Rotameter Calibration (08Sep20)\n",
    "$\n",
    "  \\newcommand{\\Amtrx}{\\boldsymbol{\\mathsf{A}}}\n",
    "  \\newcommand{\\Bmtrx}{\\boldsymbol{\\mathsf{B}}}\n",
    "  \\newcommand{\\Cmtrx}{\\boldsymbol{\\mathsf{C}}}\n",
    "  \\newcommand{\\Mmtrx}{\\boldsymbol{\\mathsf{M}}}\n",
    "  \\newcommand{\\Imtrx}{\\boldsymbol{\\mathsf{I}}}\n",
    "  \\newcommand{\\Pmtrx}{\\boldsymbol{\\mathsf{P}}}\n",
    "  \\newcommand{\\Qmtrx}{\\boldsymbol{\\mathsf{Q}}}\n",
    "  \\newcommand{\\Lmtrx}{\\boldsymbol{\\mathsf{L}}}\n",
    "  \\newcommand{\\Umtrx}{\\boldsymbol{\\mathsf{U}}}\n",
    "  \\newcommand{\\xvec}{\\boldsymbol{\\mathsf{x}}}\n",
    "  \\newcommand{\\yvec}{\\boldsymbol{\\mathsf{y}}}\n",
    "  \\newcommand{\\zvec}{\\boldsymbol{\\mathsf{z}}}\n",
    "  \\newcommand{\\avec}{\\boldsymbol{\\mathsf{a}}}\n",
    "  \\newcommand{\\bvec}{\\boldsymbol{\\mathsf{b}}}\n",
    "  \\newcommand{\\cvec}{\\boldsymbol{\\mathsf{c}}}\n",
    "  \\newcommand{\\rvec}{\\boldsymbol{\\mathsf{r}}}\n",
    "  \\newcommand{\\norm}[1]{\\bigl\\lVert{#1}\\bigr\\rVert}\n",
    "  \\DeclareMathOperator{\\rank}{rank}\n",
    "  \\DeclareMathOperator{\\abs}{abs}\n",
    "$"
   ]
  },
  {
   "cell_type": "markdown",
   "metadata": {},
   "source": [
    "### Name: `your name`"
   ]
  },
  {
   "cell_type": "markdown",
   "metadata": {},
   "source": [
    "### <span style=\"color:red\">Guidance:</span>\n",
    " +  <span style=\"color:red\"> \n",
    "    guidance.\n",
    "    </span>\n",
    " +  <span style=\"color:red\">\n",
    "    guidance.\n",
    "    </span>\n",
    " +  <span style=\"color:red\">\n",
    "    guidance.\n",
    "    </span>"
   ]
  },
  {
   "cell_type": "markdown",
   "metadata": {},
   "source": [
    "---\n",
    "### Table of Contents<a id=\"toc\"></a>\n",
    "* [Objective](#a1)  \n",
    " - [on-site Objective](#a11) \n",
    " - [off-site Objective](#a11) \n",
     "* [Introduction](#a2)  \n",
    " - [Background](#a21) \n",
    " - [Theory](#a21) \n",
    "* [Apparatus & Procedure](#a3) \n",
    " - [Physical Standard Operation Procedure (P-SOP)](#a31) \n", 
    " - -[Physical Process Flow Diagram (P-PFD)](#a32) \n",
    " - [Digital Standard Operation Procedure (D-SOP)](#a31) \n",
    " - [Digital Process Flow Diagram (D-PFD)](#a32) \n",
    "* [Data Collection](#a4) \n",
    " - [Experimental Design](#a41) \n",
    " - [Ranges and Limits](#a41) \n",
    " - [Theoretical Limits](#a42) \n",
    " - [Experimental Limits](#a42) \n",
    " - [Measurement Devices and Error](#a41) \n",
    "* [Data](#a5) \n",
    " - [Safety Check-in](#a51) \n",
    " - [Investigation 1](#a51) \n",
    " - [Physical Raw Data Tables](#a52) \n",
    " - [P-Calculated Data Tables](#a53) \n",
    " - [Digital Raw Data Tables](#a52) \n",
    " - [D-Calculated Data Tables](#a53) \n",
    " - [Modeled Data Tables](#a52) \n",
    " - [Investigation 2](#a51) \n",
    "* [Secondary Analysis](#a6) \n",
    " - [Analysis 1](#a61) \n",
    "* [Observations](#a7) \n",
    " - [Physical](#a71) \n",
    " - [Digital](#a71) \n",
    "* [Further Comments](#a8) \n",
    " - [Recommendations](#a81) \n",
    "* [Lockout/Tagout Procedure](#a9) \n",
    " - [Safety Checkout](#a91) \n",
    " - [Approvals](#a91) \n",
    "---"
   ]
  },
  {
   "cell_type": "markdown",
   "metadata": {},
   "source": [
    "##  [<span style=\"color:blue\">1. Objective</span>](#toc)<a id=\"a1\"></a>"
   ]
  },
  {
   "cell_type": "markdown",
   "metadata": {},
   "source": [
    "[<span style=\"color:blue\">1.1)</span>](#toc)\n",
    "<span style=\"color:blue\">\n",
    "This sub-item.\n",
    "</span><a id=\"a11\"></a>"
   ]
  },
  {
   "cell_type": "markdown",
   "metadata": {},
   "source": [
    "## [<span style=\"color:blue\">2. Procedure</span>](#toc)<a id=\"a2\"></a>"
   ]
  },
  {
   "cell_type": "markdown",
   "metadata": {},
   "source": [
    "[<span style=\"color:blue\">2.1)</span>](#toc)\n",
    "<span style=\"color:blue\">\n",
    "Physical apparatus.\n",
    "</span><a id=\"a21\"></a>"
   ]
  },
  {
   "cell_type": "markdown",
   "metadata": {},
   "source": [
    "|   |\n",
    "|:---|\n",
    "|<img  width=\"300\" src=\"https://raw.githubusercontent.com/dpploy/chen-3150/master/notebooks/images/rotatmeter-schematics.jpg\" title=\"Rotameter Apparatus\"> |"
   ]
  },
  {
   "cell_type": "markdown",
   "metadata": {},
   "source": [
    "[<span style=\"color:blue\">2.2)</span>](#toc)\n",
    "<span style=\"color:blue\">\n",
    "Digital apparatus.\n",
    "</span><a id=\"a22\"></a>"
   ]
  },
  {
   "cell_type": "code",
   "execution_count": null,
   "metadata": {},
   "outputs": [],
   "source": [
    "from chen_3150 import rotameter_apparatus as rotapp\n",
    "\n",
    "rotapp.help\n",
    "roapp.status"
   ]
  },
  {
   "cell_type": "markdown",
   "metadata": {},
   "source": [
    "## [<span style=\"color:blue\">3. Data Collection</span>](#toc)<a id=\"a3\"></a>"
   ]
  },
  {
   "cell_type": "markdown",
   "metadata": {},
   "source": [
    "[<span style=\"color:blue\">3.1)</span>](#toc)\n",
    "<span style=\"color:blue\">\n",
    "This sub-item.\n",
    "</span><a id=\"a31\"></a>"
   ]
  },
  {
   "cell_type": "code",
   "execution_count": null,
   "metadata": {},
   "outputs": [],
   "source": [
    "rotapp.open_g1\n",
    "rotapp.open_g3"
   ]
  },
  {
   "cell_type": "markdown",
   "metadata": {},
   "source": [
    "## [<span style=\"color:blue\">4. Raw Data</span>](#toc)<a id=\"a4\"></a>"
   ]
  },
  {
   "cell_type": "markdown",
   "metadata": {},
   "source": [
    "[<span style=\"color:blue\">4.1)</span>](#toc)\n",
    "<span style=\"color:blue\">\n",
    "This sub-item.\n",
    "</span><a id=\"a41\"></a>"
   ]
  },
  {
   "cell_type": "code",
   "execution_count": null,
   "metadata": {},
   "outputs": [],
   "source": []
  }
 ],
 "metadata": {
  "kernelspec": {
   "display_name": "Python 3",
   "language": "python",
   "name": "python3"
  },
  "language_info": {
   "codemirror_mode": {
    "name": "ipython",
    "version": 3
   },
   "file_extension": ".py",
   "mimetype": "text/x-python",
   "name": "python",
   "nbconvert_exporter": "python",
   "pygments_lexer": "ipython3",
   "version": "3.7.1"
  },
  "latex_envs": {
   "LaTeX_envs_menu_present": true,
   "autoclose": false,
   "autocomplete": true,
   "bibliofile": "biblio.bib",
   "cite_by": "apalike",
   "current_citInitial": 1,
   "eqLabelWithNumbers": true,
   "eqNumInitial": 1,
   "hotkeys": {
    "equation": "Ctrl-E",
    "itemize": "Ctrl-I"
   },
   "labels_anchors": false,
   "latex_user_defs": false,
   "report_style_numbering": false,
   "user_envs_cfg": false
  }
 },
 "nbformat": 4,
 "nbformat_minor": 2
}
